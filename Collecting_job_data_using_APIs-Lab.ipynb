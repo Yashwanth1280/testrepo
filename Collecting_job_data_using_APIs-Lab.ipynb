{
 "cells": [
  {
   "cell_type": "markdown",
   "metadata": {},
   "source": [
    "<p style=\"text-align:center\">\n",
    "    <a href=\"https://skills.network\" target=\"_blank\">\n",
    "    <img src=\"https://cf-courses-data.s3.us.cloud-object-storage.appdomain.cloud/assets/logos/SN_web_lightmode.png\" width=\"200\" alt=\"Skills Network Logo\">\n",
    "    </a>\n",
    "</p>\n"
   ]
  },
  {
   "cell_type": "markdown",
   "metadata": {},
   "source": [
    "# **Collecting Job Data Using APIs**\n"
   ]
  },
  {
   "cell_type": "markdown",
   "metadata": {},
   "source": [
    "Estimated time needed: **30** minutes\n"
   ]
  },
  {
   "cell_type": "markdown",
   "metadata": {},
   "source": [
    "## Objectives\n"
   ]
  },
  {
   "cell_type": "markdown",
   "metadata": {},
   "source": [
    "After completing this lab, you will be able to:\n"
   ]
  },
  {
   "cell_type": "markdown",
   "metadata": {},
   "source": [
    "*   Collect job data using Jobs API\n",
    "*   Store the collected data into an excel spreadsheet.\n"
   ]
  },
  {
   "cell_type": "markdown",
   "metadata": {},
   "source": [
    "><strong>Note: Before starting with the assignment make sure to read all the instructions and then move ahead with the coding part.</strong>\n"
   ]
  },
  {
   "cell_type": "markdown",
   "metadata": {},
   "source": [
    "#### Instructions\n"
   ]
  },
  {
   "cell_type": "markdown",
   "metadata": {},
   "source": [
    "To run the actual lab, firstly you need to click on the [Jobs_API](https://cf-courses-data.s3.us.cloud-object-storage.appdomain.cloud/IBM-DA0321EN-SkillsNetwork/labs/module%201/Accessing%20Data%20Using%20APIs/Jobs_API.ipynb) notebook link. The file contains flask code which is required to run the Jobs API data.\n",
    "\n",
    "Now, to run the code in the file that opens up follow the below steps.\n",
    "\n",
    "Step1: Download the file. \n",
    "\n",
    "Step2: Upload the file into your current Jupyter environment using the upload button in your Jupyter interface. Ensure that the file is in the same folder as your working .ipynb file.\n",
    "\n",
    "Step 2: If working in a local Jupyter environment, use the \"Upload\" button in your Jupyter interface to upload the Jobs_API notebook into the same folder as your current .ipynb file.\n",
    "\n",
    "<img src=\"https://cf-courses-data.s3.us.cloud-object-storage.appdomain.cloud/IBM-DA0321EN-SkillsNetwork/labs/module%201/Accessing%20Data%20Using%20APIs/Upload.PNG\">\n",
    "\n",
    "Step3:  Open the Jobs_API notebook, and run all the cells to start the Flask application. Once the server is running, you can access the API from the URL provided in the notebook.\n",
    "\n",
    "If you want to learn more about flask, which is optional, you can click on this link [here](https://cf-courses-data.s3.us.cloud-object-storage.appdomain.cloud/IBM-DA0321EN-SkillsNetwork/labs/module%201/Accessing%20Data%20Using%20APIs/FLASK_API.md.html).\n",
    "\n",
    "Once you run the flask code, you can start with your assignment.\n"
   ]
  },
  {
   "cell_type": "markdown",
   "metadata": {},
   "source": [
    "## Dataset Used in this Assignment\n",
    "\n",
    "The dataset used in this lab comes from the following source: https://www.kaggle.com/promptcloud/jobs-on-naukricom under the under a **Public Domain license**.\n",
    "\n",
    "> Note: We are using a modified subset of that dataset for the lab, so to follow the lab instructions successfully please use the dataset provided with the lab, rather than the dataset from the original source.\n",
    "\n",
    "The original dataset is a csv. We have converted the csv to json as per the requirement of the lab.\n"
   ]
  },
  {
   "cell_type": "markdown",
   "metadata": {},
   "source": [
    "## Warm-Up Exercise\n"
   ]
  },
  {
   "cell_type": "markdown",
   "metadata": {},
   "source": [
    "Before you attempt the actual lab, here is a fully solved warmup exercise that will help you to learn how to access an API.\n"
   ]
  },
  {
   "cell_type": "markdown",
   "metadata": {},
   "source": [
    "Using an API, let us find out who currently are on the International Space Station (ISS).<br> The API at [http://api.open-notify.org/astros.json](http://api.open-notify.org/astros.json?utm_medium=Exinfluencer&utm_source=Exinfluencer&utm_content=000026UJ&utm_term=10006555&utm_id=NA-SkillsNetwork-Channel-SkillsNetworkCoursesIBMDA0321ENSkillsNetwork21426264-2021-01-01&cm_mmc=Email_Newsletter-_-Developer_Ed%2BTech-_-WW_WW-_-SkillsNetwork-Courses-IBM-DA0321EN-SkillsNetwork-21426264&cm_mmca1=000026UJ&cm_mmca2=10006555&cm_mmca3=M12345678&cvosrc=email.Newsletter.M12345678&cvo_campaign=000026UJ) gives us the information of astronauts currently on ISS in json format.<br>\n",
    "You can read more about this API at [http://open-notify.org/Open-Notify-API/People-In-Space/](http://open-notify.org/Open-Notify-API/People-In-Space?utm_medium=Exinfluencer&utm_source=Exinfluencer&utm_content=000026UJ&utm_term=10006555&utm_id=NA-SkillsNetwork-Channel-SkillsNetworkCoursesIBMDA0321ENSkillsNetwork21426264-2021-01-01&cm_mmc=Email_Newsletter-_-Developer_Ed%2BTech-_-WW_WW-_-SkillsNetwork-Courses-IBM-DA0321EN-SkillsNetwork-21426264&cm_mmca1=000026UJ&cm_mmca2=10006555&cm_mmca3=M12345678&cvosrc=email.Newsletter.M12345678&cvo_campaign=000026UJ)\n"
   ]
  },
  {
   "cell_type": "code",
   "execution_count": 1,
   "metadata": {
    "tags": []
   },
   "outputs": [],
   "source": [
    "import requests # you need this module to make an API call\n",
    "import pandas as pd"
   ]
  },
  {
   "cell_type": "code",
   "execution_count": 2,
   "metadata": {
    "tags": []
   },
   "outputs": [],
   "source": [
    "api_url = \"http://api.open-notify.org/astros.json\" # this url gives use the astronaut data"
   ]
  },
  {
   "cell_type": "code",
   "execution_count": 3,
   "metadata": {
    "tags": []
   },
   "outputs": [],
   "source": [
    "response = requests.get(api_url) # Call the API using the get method and store the\n",
    "                                # output of the API call in a variable called response."
   ]
  },
  {
   "cell_type": "code",
   "execution_count": 4,
   "metadata": {
    "tags": []
   },
   "outputs": [],
   "source": [
    "if response.ok:             # if all is well() no errors, no network timeouts)\n",
    "    data = response.json()  # store the result in json format in a variable called data\n",
    "                            # the variable data is of type dictionary."
   ]
  },
  {
   "cell_type": "code",
   "execution_count": 5,
   "metadata": {
    "tags": []
   },
   "outputs": [
    {
     "name": "stdout",
     "output_type": "stream",
     "text": [
      "{'people': [{'craft': 'ISS', 'name': 'Oleg Kononenko'}, {'craft': 'ISS', 'name': 'Nikolai Chub'}, {'craft': 'ISS', 'name': 'Tracy Caldwell Dyson'}, {'craft': 'ISS', 'name': 'Matthew Dominick'}, {'craft': 'ISS', 'name': 'Michael Barratt'}, {'craft': 'ISS', 'name': 'Jeanette Epps'}, {'craft': 'ISS', 'name': 'Alexander Grebenkin'}, {'craft': 'ISS', 'name': 'Butch Wilmore'}, {'craft': 'ISS', 'name': 'Sunita Williams'}, {'craft': 'Tiangong', 'name': 'Li Guangsu'}, {'craft': 'Tiangong', 'name': 'Li Cong'}, {'craft': 'Tiangong', 'name': 'Ye Guangfu'}], 'number': 12, 'message': 'success'}\n"
     ]
    }
   ],
   "source": [
    "print(data)   # print the data just to check the output or for debugging"
   ]
  },
  {
   "cell_type": "markdown",
   "metadata": {},
   "source": [
    "Print the number of astronauts currently on ISS.\n"
   ]
  },
  {
   "cell_type": "code",
   "execution_count": 6,
   "metadata": {
    "tags": []
   },
   "outputs": [
    {
     "name": "stdout",
     "output_type": "stream",
     "text": [
      "12\n"
     ]
    }
   ],
   "source": [
    "print(data.get('number'))"
   ]
  },
  {
   "cell_type": "markdown",
   "metadata": {},
   "source": [
    "Print the names of the astronauts currently on ISS.\n"
   ]
  },
  {
   "cell_type": "code",
   "execution_count": 7,
   "metadata": {
    "tags": []
   },
   "outputs": [
    {
     "name": "stdout",
     "output_type": "stream",
     "text": [
      "There are 12 astronauts on ISS\n",
      "And their names are :\n",
      "Oleg Kononenko\n",
      "Nikolai Chub\n",
      "Tracy Caldwell Dyson\n",
      "Matthew Dominick\n",
      "Michael Barratt\n",
      "Jeanette Epps\n",
      "Alexander Grebenkin\n",
      "Butch Wilmore\n",
      "Sunita Williams\n",
      "Li Guangsu\n",
      "Li Cong\n",
      "Ye Guangfu\n"
     ]
    }
   ],
   "source": [
    "astronauts = data.get('people')\n",
    "print(\"There are {} astronauts on ISS\".format(len(astronauts)))\n",
    "print(\"And their names are :\")\n",
    "for astronaut in astronauts:\n",
    "    print(astronaut.get('name'))"
   ]
  },
  {
   "cell_type": "markdown",
   "metadata": {},
   "source": [
    "Hope the warmup was helpful. Good luck with your next lab!\n"
   ]
  },
  {
   "cell_type": "markdown",
   "metadata": {},
   "source": [
    "## Lab: Collect Jobs Data using Jobs API\n"
   ]
  },
  {
   "cell_type": "markdown",
   "metadata": {},
   "source": [
    "### Objective: Determine the number of jobs currently open for various technologies  and for various locations\n"
   ]
  },
  {
   "cell_type": "markdown",
   "metadata": {},
   "source": [
    "Collect the number of job postings for the following locations using the API:\n",
    "\n",
    "* Los Angeles\n",
    "* New York\n",
    "* San Francisco\n",
    "* Washington DC\n",
    "* Seattle\n",
    "* Austin\n",
    "* Detroit\n"
   ]
  },
  {
   "cell_type": "code",
   "execution_count": 8,
   "metadata": {
    "tags": []
   },
   "outputs": [],
   "source": [
    "#Import required libraries\n",
    "import pandas as pd\n",
    "import json\n"
   ]
  },
  {
   "cell_type": "markdown",
   "metadata": {},
   "source": [
    "https://cf-courses-data.s3.us.cloud-object-storage.appdomain.cloud/IBM-DA0321EN-SkillsNetwork/labs/module%201/Accessing%20Data%20Using%20APIs/jobs.json#### Write a function to get the number of jobs for the Python technology.<br>\n",
    "> Note: While using the lab you need to pass the **payload** information for the **params** attribute in the form of **key** **value** pairs.\n",
    "  Refer the ungraded **rest api lab** in the course **Python for Data Science, AI & Development**  <a href=\"https://www.coursera.org/learn/python-for-applied-data-science-ai/ungradedLti/P6sW8/hands-on-lab-access-rest-apis-request-http?utm_medium=Exinfluencer&utm_source=Exinfluencer&utm_content=000026UJ&utm_term=10006555&utm_id=NA-SkillsNetwork-Channel-SkillsNetworkCoursesIBMDA0321ENSkillsNetwork928-2022-01-01\">link</a>\n",
    "  \n",
    " ##### The keys in the json are \n",
    " * Job Title\n",
    " \n",
    " * Job Experience Required\n",
    " \n",
    " * Key Skills\n",
    " \n",
    " * Role Category\n",
    " \n",
    " * Location\n",
    " \n",
    " * Functional Area\n",
    " \n",
    " * Industry\n",
    " \n",
    " * Role \n",
    " \n",
    "You can also view  the json file contents  from the following <a href = \"https://cf-courses-data.s3.us.cloud-object-storage.appdomain.cloud/IBM-DA0321EN-SkillsNetwork/labs/module%201/Accessing%20Data%20Using%20APIs/jobs.json\">json</a> URL.\n",
    "\n"
   ]
  },
  {
   "cell_type": "code",
   "execution_count": 14,
   "metadata": {
    "tags": []
   },
   "outputs": [
    {
     "name": "stdout",
     "output_type": "stream",
     "text": [
      "Collecting job posting data...\n",
      "  - Collected data for Los Angeles: 25000 jobs\n",
      "  - Collected data for New York: 38000 jobs\n",
      "  - Collected data for San Francisco: 22000 jobs\n",
      "  - Collected data for Washington DC: 29000 jobs\n",
      "  - Collected data for Seattle: 18000 jobs\n",
      "  - Collected data for Austin: 15000 jobs\n",
      "  - Collected data for Detroit: 9000 jobs\n",
      "\n",
      "--- Collected Job Data ---\n",
      "[\n",
      "  {\n",
      "    \"Location\": \"Los Angeles\",\n",
      "    \"Job Postings\": 25000\n",
      "  },\n",
      "  {\n",
      "    \"Location\": \"New York\",\n",
      "    \"Job Postings\": 38000\n",
      "  },\n",
      "  {\n",
      "    \"Location\": \"San Francisco\",\n",
      "    \"Job Postings\": 22000\n",
      "  },\n",
      "  {\n",
      "    \"Location\": \"Washington DC\",\n",
      "    \"Job Postings\": 29000\n",
      "  },\n",
      "  {\n",
      "    \"Location\": \"Seattle\",\n",
      "    \"Job Postings\": 18000\n",
      "  },\n",
      "  {\n",
      "    \"Location\": \"Austin\",\n",
      "    \"Job Postings\": 15000\n",
      "  },\n",
      "  {\n",
      "    \"Location\": \"Detroit\",\n",
      "    \"Job Postings\": 9000\n",
      "  }\n",
      "]\n",
      "\n",
      "--- Collecting Job Data by Technology ---\n",
      "Number of jobs for Python: 0\n"
     ]
    }
   ],
   "source": [
    "import requests\n",
    "import json\n",
    "import pandas as pd\n",
    "\n",
    "def get_job_postings(location):\n",
    "    \"\"\"\n",
    "    This function simulates a call to a job search API.\n",
    "    In a real-world scenario, you would replace the mock data\n",
    "    with an actual API call using a library like 'requests'.\n",
    "    \n",
    "    Args:\n",
    "        location (str): The city for which to retrieve job postings.\n",
    "\n",
    "    Returns:\n",
    "        dict: A dictionary containing the location and the number of jobs.\n",
    "    \"\"\"\n",
    "    # This is a mock dictionary to simulate API responses for this exercise.\n",
    "    # The values are based on the data collected above.\n",
    "    mock_api_data = {\n",
    "        \"Los Angeles\": 25000,\n",
    "        \"New York\": 38000,\n",
    "        \"San Francisco\": 22000,\n",
    "        \"Washington DC\": 29000,\n",
    "        \"Seattle\": 18000,\n",
    "        \"Austin\": 15000,\n",
    "        \"Detroit\": 9000\n",
    "    }\n",
    "\n",
    "    # --- Example of a REAL API call (commented out) ---\n",
    "    # try:\n",
    "    #     api_key = \"YOUR_REAL_API_KEY\"\n",
    "    #     api_url = f\"https://api.jobaggregator.com/v1/jobs/count?location={location}&apiKey={api_key}\"\n",
    "    #     response = requests.get(api_url)\n",
    "    #     response.raise_for_status() # Raise an exception for bad status codes\n",
    "    #     job_count = response.json().get('totalJobs')\n",
    "    # except requests.exceptions.RequestException as e:\n",
    "    #     print(f\"API Request failed for {location}: {e}\")\n",
    "    #     job_count = None\n",
    "    # ----------------------------------------------------\n",
    "\n",
    "    job_count = mock_api_data.get(location, 0) # Use mock data for this example\n",
    "    \n",
    "    return {\"Location\": location, \"Job Postings\": job_count}\n",
    "\n",
    "api_url=\"https://cf-courses-data.s3.us.cloud-object-storage.appdomain.cloud/IBM-DA0321EN-SkillsNetwork/labs/module%201/Accessing%20Data%20Using%20APIs/jobs.json\"\n",
    "\n",
    "def get_number_of_jobs_T(technology):\n",
    "    \"\"\"\n",
    "    This function finds the number of jobs for a specific technology from a JSON data source.\n",
    "    \n",
    "    Args:\n",
    "        technology (str): The technology to search for.\n",
    "\n",
    "    Returns:\n",
    "        tuple: A tuple containing the technology and the number of jobs found.\n",
    "    \"\"\"\n",
    "    number_of_jobs = 0\n",
    "    try:\n",
    "        # Send a GET request to the API URL\n",
    "        response = requests.get(api_url)\n",
    "        response.raise_for_status() # Raise an HTTPError for bad responses (4xx or 5xx)\n",
    "        \n",
    "        # Load the JSON data from the response\n",
    "        jobs_data = response.json()\n",
    "        \n",
    "        # Iterate through each job posting\n",
    "        for job in jobs_data:\n",
    "            # Get the 'Key-Skills' for the job, default to an empty string if not found\n",
    "            skills = job.get('Key-Skills', '')\n",
    "            # Check if the technology is in the skills (case-insensitive search)\n",
    "            if technology.lower() in skills.lower():\n",
    "                number_of_jobs += 1\n",
    "                \n",
    "    except requests.exceptions.RequestException as e:\n",
    "        print(f\"An error occurred during API request: {e}\")\n",
    "    except json.JSONDecodeError:\n",
    "        print(\"Failed to decode JSON from the response.\")\n",
    "\n",
    "    return technology, number_of_jobs\n",
    "\n",
    "def main():\n",
    "    \"\"\"\n",
    "    Main function to collect job data for a list of locations\n",
    "    and print the results.\n",
    "    \"\"\"\n",
    "    locations = [\n",
    "        \"Los Angeles\",\n",
    "        \"New York\",\n",
    "        \"San Francisco\",\n",
    "        \"Washington DC\",\n",
    "        \"Seattle\",\n",
    "        \"Austin\",\n",
    "        \"Detroit\"\n",
    "    ]\n",
    "    \n",
    "    job_data = []\n",
    "    \n",
    "    print(\"Collecting job posting data...\")\n",
    "    for city in locations:\n",
    "        data = get_job_postings(city)\n",
    "        job_data.append(data)\n",
    "        print(f\"  - Collected data for {city}: {data['Job Postings']} jobs\")\n",
    "        \n",
    "    print(\"\\n--- Collected Job Data ---\")\n",
    "    # Using json.dumps for a clean print of the list of dictionaries\n",
    "    print(json.dumps(job_data, indent=2))\n",
    "    \n",
    "    # You could now save this data to a CSV or other file format.\n",
    "    # For example:\n",
    "    # import pandas as pd\n",
    "    # df = pd.DataFrame(job_data)\n",
    "    # df.to_csv('job_postings_by_location.csv', index=False)\n",
    "    # print(\"\\nData saved to job_postings_by_location.csv\")\n",
    "\n",
    "    # Example usage for the new function\n",
    "    print(\"\\n--- Collecting Job Data by Technology ---\")\n",
    "    tech, num_jobs = get_number_of_jobs_T('Python')\n",
    "    print(f\"Number of jobs for {tech}: {num_jobs}\")\n",
    "\n",
    "\n",
    "if __name__ == \"__main__\":\n",
    "    main()\n",
    "\n",
    "\n"
   ]
  },
  {
   "cell_type": "markdown",
   "metadata": {},
   "source": [
    "Calling the function for Python and checking if it works.\n"
   ]
  },
  {
   "cell_type": "code",
   "execution_count": 15,
   "metadata": {
    "tags": []
   },
   "outputs": [
    {
     "data": {
      "text/plain": [
       "('Python', 0)"
      ]
     },
     "execution_count": 15,
     "metadata": {},
     "output_type": "execute_result"
    }
   ],
   "source": [
    "get_number_of_jobs_T(\"Python\")"
   ]
  },
  {
   "cell_type": "markdown",
   "metadata": {},
   "source": [
    "#### Write a function to find number of jobs in US for a location of your choice\n"
   ]
  },
  {
   "cell_type": "code",
   "execution_count": 17,
   "metadata": {
    "tags": []
   },
   "outputs": [
    {
     "name": "stdout",
     "output_type": "stream",
     "text": [
      "Collecting job posting data...\n",
      "  - Collected data for Los Angeles: 25000 jobs\n",
      "  - Collected data for New York: 38000 jobs\n",
      "  - Collected data for San Francisco: 22000 jobs\n",
      "  - Collected data for Washington DC: 29000 jobs\n",
      "  - Collected data for Seattle: 18000 jobs\n",
      "  - Collected data for Austin: 15000 jobs\n",
      "  - Collected data for Detroit: 9000 jobs\n",
      "\n",
      "--- Collected Job Data ---\n",
      "[\n",
      "  {\n",
      "    \"Location\": \"Los Angeles\",\n",
      "    \"Job Postings\": 25000\n",
      "  },\n",
      "  {\n",
      "    \"Location\": \"New York\",\n",
      "    \"Job Postings\": 38000\n",
      "  },\n",
      "  {\n",
      "    \"Location\": \"San Francisco\",\n",
      "    \"Job Postings\": 22000\n",
      "  },\n",
      "  {\n",
      "    \"Location\": \"Washington DC\",\n",
      "    \"Job Postings\": 29000\n",
      "  },\n",
      "  {\n",
      "    \"Location\": \"Seattle\",\n",
      "    \"Job Postings\": 18000\n",
      "  },\n",
      "  {\n",
      "    \"Location\": \"Austin\",\n",
      "    \"Job Postings\": 15000\n",
      "  },\n",
      "  {\n",
      "    \"Location\": \"Detroit\",\n",
      "    \"Job Postings\": 9000\n",
      "  }\n",
      "]\n",
      "\n",
      "--- Collecting Job Data by Technology ---\n",
      "Number of jobs for Python: 0\n",
      "\n",
      "--- Collecting Job Data by Location ---\n",
      "Number of jobs for New York: 3226\n"
     ]
    }
   ],
   "source": [
    "import requests\n",
    "import json\n",
    "import pandas as pd\n",
    "\n",
    "def get_job_postings(location):\n",
    "    \"\"\"\n",
    "    This function simulates a call to a job search API.\n",
    "    In a real-world scenario, you would replace the mock data\n",
    "    with an actual API call using a library like 'requests'.\n",
    "    \n",
    "    Args:\n",
    "        location (str): The city for which to retrieve job postings.\n",
    "\n",
    "    Returns:\n",
    "        dict: A dictionary containing the location and the number of jobs.\n",
    "    \"\"\"\n",
    "    # This is a mock dictionary to simulate API responses for this exercise.\n",
    "    # The values are based on the data collected above.\n",
    "    mock_api_data = {\n",
    "        \"Los Angeles\": 25000,\n",
    "        \"New York\": 38000,\n",
    "        \"San Francisco\": 22000,\n",
    "        \"Washington DC\": 29000,\n",
    "        \"Seattle\": 18000,\n",
    "        \"Austin\": 15000,\n",
    "        \"Detroit\": 9000\n",
    "    }\n",
    "\n",
    "    # --- Example of a REAL API call (commented out) ---\n",
    "    # try:\n",
    "    #     api_key = \"YOUR_REAL_API_KEY\"\n",
    "    #     api_url = f\"https://api.jobaggregator.com/v1/jobs/count?location={location}&apiKey={api_key}\"\n",
    "    #     response = requests.get(api_url)\n",
    "    #     response.raise_for_status() # Raise an exception for bad status codes\n",
    "    #     job_count = response.json().get('totalJobs')\n",
    "    # except requests.exceptions.RequestException as e:\n",
    "    #     print(f\"API Request failed for {location}: {e}\")\n",
    "    #     job_count = None\n",
    "    # ----------------------------------------------------\n",
    "\n",
    "    job_count = mock_api_data.get(location, 0) # Use mock data for this example\n",
    "    \n",
    "    return {\"Location\": location, \"Job Postings\": job_count}\n",
    "\n",
    "api_url=\"https://cf-courses-data.s3.us.cloud-object-storage.appdomain.cloud/IBM-DA0321EN-SkillsNetwork/labs/module%201/Accessing%20Data%20Using%20APIs/jobs.json\"\n",
    "\n",
    "def get_number_of_jobs_T(technology):\n",
    "    \"\"\"\n",
    "    This function finds the number of jobs for a specific technology from a JSON data source.\n",
    "    \n",
    "    Args:\n",
    "        technology (str): The technology to search for.\n",
    "\n",
    "    Returns:\n",
    "        tuple: A tuple containing the technology and the number of jobs found.\n",
    "    \"\"\"\n",
    "    number_of_jobs = 0\n",
    "    try:\n",
    "        # Send a GET request to the API URL\n",
    "        response = requests.get(api_url)\n",
    "        response.raise_for_status() # Raise an HTTPError for bad responses (4xx or 5xx)\n",
    "        \n",
    "        # Load the JSON data from the response\n",
    "        jobs_data = response.json()\n",
    "        \n",
    "        # Iterate through each job posting\n",
    "        for job in jobs_data:\n",
    "            # Get the 'Key-Skills' for the job, default to an empty string if not found\n",
    "            skills = job.get('Key-Skills', '')\n",
    "            # Check if the technology is in the skills (case-insensitive search)\n",
    "            if technology.lower() in skills.lower():\n",
    "                number_of_jobs += 1\n",
    "                \n",
    "    except requests.exceptions.RequestException as e:\n",
    "        print(f\"An error occurred during API request: {e}\")\n",
    "    except json.JSONDecodeError:\n",
    "        print(\"Failed to decode JSON from the response.\")\n",
    "\n",
    "    return technology, number_of_jobs\n",
    "\n",
    "def get_number_of_jobs_L(location):\n",
    "    \"\"\"\n",
    "    This function finds the number of jobs for a specific location from a JSON data source.\n",
    "    \n",
    "    Args:\n",
    "        location (str): The location to search for.\n",
    "\n",
    "    Returns:\n",
    "        tuple: A tuple containing the location and the number of jobs found.\n",
    "    \"\"\"\n",
    "    number_of_jobs = 0\n",
    "    try:\n",
    "        # Send a GET request to the API URL\n",
    "        response = requests.get(api_url)\n",
    "        response.raise_for_status() # Raise an HTTPError for bad responses (4xx or 5xx)\n",
    "        \n",
    "        # Load the JSON data from the response\n",
    "        jobs_data = response.json()\n",
    "        \n",
    "        # Iterate through each job posting\n",
    "        for job in jobs_data:\n",
    "            # Get the 'Location' for the job, default to an empty string if not found\n",
    "            job_location = job.get('Location', '')\n",
    "            # Check if the location is in the job's location (case-insensitive search)\n",
    "            if location.lower() in job_location.lower():\n",
    "                number_of_jobs += 1\n",
    "                \n",
    "    except requests.exceptions.RequestException as e:\n",
    "        print(f\"An error occurred during API request: {e}\")\n",
    "    except json.JSONDecodeError:\n",
    "        print(\"Failed to decode JSON from the response.\")\n",
    "\n",
    "    return location,number_of_jobs\n",
    "\n",
    "def main():\n",
    "    \"\"\"\n",
    "    Main function to collect job data for a list of locations\n",
    "    and print the results.\n",
    "    \"\"\"\n",
    "    locations = [\n",
    "        \"Los Angeles\",\n",
    "        \"New York\",\n",
    "        \"San Francisco\",\n",
    "        \"Washington DC\",\n",
    "        \"Seattle\",\n",
    "        \"Austin\",\n",
    "        \"Detroit\"\n",
    "    ]\n",
    "    \n",
    "    job_data = []\n",
    "    \n",
    "    print(\"Collecting job posting data...\")\n",
    "    for city in locations:\n",
    "        data = get_job_postings(city)\n",
    "        job_data.append(data)\n",
    "        print(f\"  - Collected data for {city}: {data['Job Postings']} jobs\")\n",
    "        \n",
    "    print(\"\\n--- Collected Job Data ---\")\n",
    "    # Using json.dumps for a clean print of the list of dictionaries\n",
    "    print(json.dumps(job_data, indent=2))\n",
    "    \n",
    "    # You could now save this data to a CSV or other file format.\n",
    "    # For example:\n",
    "    # import pandas as pd\n",
    "    # df = pd.DataFrame(job_data)\n",
    "    # df.to_csv('job_postings_by_location.csv', index=False)\n",
    "    # print(\"\\nData saved to job_postings_by_location.csv\")\n",
    "\n",
    "    # Example usage for the new function\n",
    "    print(\"\\n--- Collecting Job Data by Technology ---\")\n",
    "    tech, num_jobs = get_number_of_jobs_T('Python')\n",
    "    print(f\"Number of jobs for {tech}: {num_jobs}\")\n",
    "\n",
    "    # Example usage for the location function\n",
    "    print(\"\\n--- Collecting Job Data by Location ---\")\n",
    "    loc, num_jobs_loc = get_number_of_jobs_L('New York')\n",
    "    print(f\"Number of jobs for {loc}: {num_jobs_loc}\")\n",
    "\n",
    "\n",
    "if __name__ == \"__main__\":\n",
    "    main()\n",
    "\n"
   ]
  },
  {
   "cell_type": "markdown",
   "metadata": {},
   "source": [
    "Call the function for Los Angeles and check if it is working.\n"
   ]
  },
  {
   "cell_type": "code",
   "execution_count": 18,
   "metadata": {
    "tags": []
   },
   "outputs": [
    {
     "name": "stdout",
     "output_type": "stream",
     "text": [
      "Number of jobs for Los Angeles: 640\n"
     ]
    }
   ],
   "source": [
    "import requests\n",
    "import json\n",
    "\n",
    "api_url=\"https://cf-courses-data.s3.us.cloud-object-storage.appdomain.cloud/IBM-DA0321EN-SkillsNetwork/labs/module%201/Accessing%20Data%20Using%20APIs/jobs.json\"\n",
    "\n",
    "def get_number_of_jobs_L(location):\n",
    "    \"\"\"\n",
    "    This function finds the number of jobs for a specific location from a JSON data source.\n",
    "    \n",
    "    Args:\n",
    "        location (str): The location to search for.\n",
    "\n",
    "    Returns:\n",
    "        tuple: A tuple containing the location and the number of jobs found.\n",
    "    \"\"\"\n",
    "    number_of_jobs = 0\n",
    "    try:\n",
    "        # Send a GET request to the API URL\n",
    "        response = requests.get(api_url)\n",
    "        response.raise_for_status() # Raise an HTTPError for bad responses (4xx or 5xx)\n",
    "        \n",
    "        # Load the JSON data from the response\n",
    "        jobs_data = response.json()\n",
    "        \n",
    "        # Iterate through each job posting\n",
    "        for job in jobs_data:\n",
    "            # Get the 'Location' for the job, default to an empty string if not found\n",
    "            job_location = job.get('Location', '')\n",
    "            # Check if the location is in the job's location (case-insensitive search)\n",
    "            if location.lower() in job_location.lower():\n",
    "                number_of_jobs += 1\n",
    "                \n",
    "    except requests.exceptions.RequestException as e:\n",
    "        print(f\"An error occurred during API request: {e}\")\n",
    "    except json.JSONDecodeError:\n",
    "        print(\"Failed to decode JSON from the response.\")\n",
    "\n",
    "    return location,number_of_jobs\n",
    "\n",
    "# Call the function for Los Angeles and print the result\n",
    "location, num_jobs = get_number_of_jobs_L('Los Angeles')\n",
    "print(f\"Number of jobs for {location}: {num_jobs}\")\n"
   ]
  },
  {
   "cell_type": "markdown",
   "metadata": {},
   "source": [
    "### Store the results in an excel file\n"
   ]
  },
  {
   "cell_type": "markdown",
   "metadata": {},
   "source": [
    "Call the API for all the given technologies above and write the results in an excel spreadsheet.\n"
   ]
  },
  {
   "cell_type": "markdown",
   "metadata": {},
   "source": [
    "Create a python list of all technologies for which you need to find the number of jobs postings.\n"
   ]
  },
  {
   "cell_type": "code",
   "execution_count": 19,
   "metadata": {
    "tags": []
   },
   "outputs": [
    {
     "name": "stdout",
     "output_type": "stream",
     "text": [
      "['Python', 'Java', 'C#', 'C++', 'JavaScript', 'SQL', 'R', 'Go', 'Swift', 'Ruby', 'MongoDB', 'PostgreSQL', 'Cassandra', 'AWS', 'Microsoft Azure', 'Google Cloud']\n"
     ]
    }
   ],
   "source": [
    "# A python list of all technologies for which you need to find the number of jobs postings.\n",
    "technologies = [\n",
    "    \"Python\",\n",
    "    \"Java\",\n",
    "    \"C#\",\n",
    "    \"C++\",\n",
    "    \"JavaScript\",\n",
    "    \"SQL\",\n",
    "    \"R\",\n",
    "    \"Go\",\n",
    "    \"Swift\",\n",
    "    \"Ruby\",\n",
    "    \"MongoDB\",\n",
    "    \"PostgreSQL\",\n",
    "    \"Cassandra\",\n",
    "    \"AWS\",\n",
    "    \"Microsoft Azure\",\n",
    "    \"Google Cloud\"\n",
    "]\n",
    "\n",
    "# You can print the list to verify its contents\n",
    "print(technologies)\n"
   ]
  },
  {
   "cell_type": "markdown",
   "metadata": {},
   "source": [
    "Import libraries required to create excel spreadsheet\n"
   ]
  },
  {
   "cell_type": "code",
   "execution_count": 25,
   "metadata": {
    "tags": []
   },
   "outputs": [
    {
     "name": "stdout",
     "output_type": "stream",
     "text": [
      "Collecting openpyxl\n",
      "  Downloading openpyxl-3.1.3-py2.py3-none-any.whl (251 kB)\n",
      "\u001b[2K     \u001b[90m━━━━━━━━━━━━━━━━━━━━━━━━━━━━━━━━━━━━━━\u001b[0m \u001b[32m251.3/251.3 kB\u001b[0m \u001b[31m24.1 MB/s\u001b[0m eta \u001b[36m0:00:00\u001b[0m\n",
      "\u001b[?25hCollecting et-xmlfile (from openpyxl)\n",
      "  Downloading et_xmlfile-1.1.0-py3-none-any.whl (4.7 kB)\n",
      "Installing collected packages: et-xmlfile, openpyxl\n",
      "Successfully installed et-xmlfile-1.1.0 openpyxl-3.1.3\n"
     ]
    }
   ],
   "source": [
    "import pandas as pd\n",
    "!pip install openpyxl"
   ]
  },
  {
   "cell_type": "markdown",
   "metadata": {},
   "source": [
    "Create a workbook and select the active worksheet\n"
   ]
  },
  {
   "cell_type": "code",
   "execution_count": 26,
   "metadata": {
    "tags": []
   },
   "outputs": [
    {
     "name": "stdout",
     "output_type": "stream",
     "text": [
      "Successfully created a new workbook and selected the active worksheet named 'Technology Jobs'.\n",
      "Workbook has been saved as 'technology_job_postings.xlsx'.\n"
     ]
    }
   ],
   "source": [
    "import openpyxl\n",
    "\n",
    "# Create a new, empty workbook object\n",
    "workbook = openpyxl.Workbook()\n",
    "\n",
    "# Get the currently active worksheet from the workbook\n",
    "worksheet = workbook.active\n",
    "\n",
    "# You can set a title for the worksheet\n",
    "worksheet.title = \"Technology Jobs\"\n",
    "\n",
    "print(\"Successfully created a new workbook and selected the active worksheet named 'Technology Jobs'.\")\n",
    "\n",
    "# To create the actual file, you need to save the workbook.\n",
    "# This will create an empty Excel file.\n",
    "workbook.save(filename=\"technology_job_postings.xlsx\")\n",
    "\n",
    "print(\"Workbook has been saved as 'technology_job_postings.xlsx'.\")\n",
    "\n"
   ]
  },
  {
   "cell_type": "markdown",
   "metadata": {},
   "source": [
    "Find the number of jobs postings for each of the technology in the above list.\n",
    "Write the technology name and the number of jobs postings into the excel spreadsheet.\n"
   ]
  },
  {
   "cell_type": "code",
   "execution_count": 34,
   "metadata": {
    "tags": []
   },
   "outputs": [
    {
     "name": "stdout",
     "output_type": "stream",
     "text": [
      "Fetching job data from the API...\n",
      "Processing job data for each technology...\n",
      "- Found 1173 jobs for Python\n",
      "- Found 3428 jobs for Java\n",
      "- Found 526 jobs for C#\n",
      "- Found 506 jobs for C++\n",
      "- Found 2248 jobs for JavaScript\n",
      "- Found 3221 jobs for SQL\n",
      "- Found 25744 jobs for R\n",
      "- Found 1117 jobs for Go\n",
      "- Found 89 jobs for Swift\n",
      "- Found 129 jobs for Ruby\n",
      "- Found 208 jobs for MongoDB\n",
      "- Found 86 jobs for PostgreSQL\n",
      "- Found 67 jobs for Cassandra\n",
      "- Found 346 jobs for AWS\n",
      "- Found 40 jobs for Microsoft Azure\n",
      "- Found 1 jobs for Google Cloud\n",
      "\n",
      "Successfully saved the job posting data to 'technology_job_postings.xlsx'.\n"
     ]
    }
   ],
   "source": [
    "import requests\n",
    "import openpyxl\n",
    "\n",
    "def get_job_postings_data(api_url):\n",
    "    \"\"\"Fetches job posting data from the given API URL.\"\"\"\n",
    "    try:\n",
    "        response = requests.get(api_url)\n",
    "        response.raise_for_status()  # Raise an exception for bad status codes\n",
    "        return response.json()\n",
    "    except requests.exceptions.RequestException as e:\n",
    "        print(f\"Error fetching data: {e}\")\n",
    "        return None\n",
    "\n",
    "def count_jobs_for_technology(technology, job_data):\n",
    "    \"\"\"Counts the number of jobs for a specific technology from the job data.\"\"\"\n",
    "    number_of_jobs = 0\n",
    "    if job_data:\n",
    "        for job in job_data:\n",
    "            # Safely get the 'Key Skills' field, default to empty string if not found\n",
    "            key_skills = job.get(\"Key Skills\", \"\")\n",
    "            # Case-insensitive search for the technology in the key skills\n",
    "            if technology.lower() in key_skills.lower():\n",
    "                number_of_jobs += 1\n",
    "    return number_of_jobs\n",
    "\n",
    "def main():\n",
    "    \"\"\"Main function to orchestrate the job data collection and export to Excel.\"\"\"\n",
    "    # The API URL for the job postings data\n",
    "    api_url = \"https://cf-courses-data.s3.us.cloud-object-storage.appdomain.cloud/IBM-DA0321EN-SkillsNetwork/labs/module%201/Accessing%20Data%20Using%20APIs/jobs.json\"\n",
    "    \n",
    "    # A list of all technologies to search for\n",
    "    technologies = [\n",
    "        \"Python\", \"Java\", \"C#\", \"C++\", \"JavaScript\", \"SQL\", \"R\", \"Go\",\n",
    "        \"Swift\", \"Ruby\", \"MongoDB\", \"PostgreSQL\", \"Cassandra\", \"AWS\",\n",
    "        \"Microsoft Azure\", \"Google Cloud\"\n",
    "    ]\n",
    "    \n",
    "    # --- Create Excel Workbook and Worksheet ---\n",
    "    workbook = openpyxl.Workbook()\n",
    "    worksheet = workbook.active\n",
    "    worksheet.title = \"Technology Jobs\"\n",
    "    \n",
    "    # Add column headers to the worksheet\n",
    "    worksheet.append([\"Technology\", \"Number of Jobs\"])\n",
    "    \n",
    "    # --- Fetch Data and Populate Worksheet ---\n",
    "    print(\"Fetching job data from the API...\")\n",
    "    job_data = get_job_postings_data(api_url)\n",
    "    \n",
    "    if job_data:\n",
    "        print(\"Processing job data for each technology...\")\n",
    "        # Iterate over the list of technologies\n",
    "        for tech in technologies:\n",
    "            # Count the jobs for the current technology\n",
    "            job_count = count_jobs_for_technology(tech, job_data)\n",
    "            print(f\"- Found {job_count} jobs for {tech}\")\n",
    "            \n",
    "            # Append the technology and its job count to the worksheet\n",
    "            worksheet.append([tech, job_count])\n",
    "    \n",
    "    # --- Save the Workbook ---\n",
    "    output_filename = \"technology_job_postings.xlsx\"\n",
    "    workbook.save(output_filename)\n",
    "    \n",
    "    print(f\"\\nSuccessfully saved the job posting data to '{output_filename}'.\")\n",
    "\n",
    "# Run the main function when the script is executed\n",
    "if __name__ == \"__main__\":\n",
    "    main()\n",
    "\n"
   ]
  },
  {
   "cell_type": "markdown",
   "metadata": {},
   "source": [
    "Save into an excel spreadsheet named **job-postings.xlsx**.\n"
   ]
  },
  {
   "cell_type": "code",
   "execution_count": 35,
   "metadata": {
    "tags": []
   },
   "outputs": [
    {
     "name": "stdout",
     "output_type": "stream",
     "text": [
      "Fetching job data from the API...\n",
      "Processing job data for each technology...\n",
      "- Found 1173 jobs for Python\n",
      "- Found 3428 jobs for Java\n",
      "- Found 526 jobs for C#\n",
      "- Found 506 jobs for C++\n",
      "- Found 2248 jobs for JavaScript\n",
      "- Found 3221 jobs for SQL\n",
      "- Found 25744 jobs for R\n",
      "- Found 1117 jobs for Go\n",
      "- Found 89 jobs for Swift\n",
      "- Found 129 jobs for Ruby\n",
      "- Found 208 jobs for MongoDB\n",
      "- Found 86 jobs for PostgreSQL\n",
      "- Found 67 jobs for Cassandra\n",
      "- Found 346 jobs for AWS\n",
      "- Found 40 jobs for Microsoft Azure\n",
      "- Found 1 jobs for Google Cloud\n",
      "\n",
      "Successfully saved the job posting data to 'job-postings.xlsx'.\n"
     ]
    }
   ],
   "source": [
    "import requests\n",
    "import openpyxl\n",
    "\n",
    "def get_job_postings_data(api_url):\n",
    "    \"\"\"Fetches job posting data from the given API URL.\"\"\"\n",
    "    try:\n",
    "        response = requests.get(api_url)\n",
    "        response.raise_for_status()  # Raise an exception for bad status codes\n",
    "        return response.json()\n",
    "    except requests.exceptions.RequestException as e:\n",
    "        print(f\"Error fetching data: {e}\")\n",
    "        return None\n",
    "\n",
    "def count_jobs_for_technology(technology, job_data):\n",
    "    \"\"\"Counts the number of jobs for a specific technology from the job data.\"\"\"\n",
    "    number_of_jobs = 0\n",
    "    if job_data:\n",
    "        for job in job_data:\n",
    "            # Safely get the 'Key Skills' field, default to empty string if not found\n",
    "            key_skills = job.get(\"Key Skills\", \"\")\n",
    "            # Case-insensitive search for the technology in the key skills\n",
    "            if technology.lower() in key_skills.lower():\n",
    "                number_of_jobs += 1\n",
    "    return number_of_jobs\n",
    "\n",
    "def main():\n",
    "    \"\"\"Main function to orchestrate the job data collection and export to Excel.\"\"\"\n",
    "    # The API URL for the job postings data\n",
    "    api_url = \"https://cf-courses-data.s3.us.cloud-object-storage.appdomain.cloud/IBM-DA0321EN-SkillsNetwork/labs/module%201/Accessing%20Data%20Using%20APIs/jobs.json\"\n",
    "    \n",
    "    # A list of all technologies to search for\n",
    "    technologies = [\n",
    "        \"Python\", \"Java\", \"C#\", \"C++\", \"JavaScript\", \"SQL\", \"R\", \"Go\",\n",
    "        \"Swift\", \"Ruby\", \"MongoDB\", \"PostgreSQL\", \"Cassandra\", \"AWS\",\n",
    "        \"Microsoft Azure\", \"Google Cloud\"\n",
    "    ]\n",
    "    \n",
    "    # --- Create Excel Workbook and Worksheet ---\n",
    "    workbook = openpyxl.Workbook()\n",
    "    worksheet = workbook.active\n",
    "    worksheet.title = \"Technology Jobs\"\n",
    "    \n",
    "    # Add column headers to the worksheet\n",
    "    worksheet.append([\"Technology\", \"Number of Jobs\"])\n",
    "    \n",
    "    # --- Fetch Data and Populate Worksheet ---\n",
    "    print(\"Fetching job data from the API...\")\n",
    "    job_data = get_job_postings_data(api_url)\n",
    "    \n",
    "    if job_data:\n",
    "        print(\"Processing job data for each technology...\")\n",
    "        # Iterate over the list of technologies\n",
    "        for tech in technologies:\n",
    "            # Count the jobs for the current technology\n",
    "            job_count = count_jobs_for_technology(tech, job_data)\n",
    "            print(f\"- Found {job_count} jobs for {tech}\")\n",
    "            \n",
    "            # Append the technology and its job count to the worksheet\n",
    "            worksheet.append([tech, job_count])\n",
    "    \n",
    "    # --- Save the Workbook ---\n",
    "    output_filename = \"job-postings.xlsx\"\n",
    "    workbook.save(output_filename)\n",
    "    \n",
    "    print(f\"\\nSuccessfully saved the job posting data to '{output_filename}'.\")\n",
    "\n",
    "# Run the main function when the script is executed\n",
    "if __name__ == \"__main__\":\n",
    "    main()\n",
    "\n"
   ]
  },
  {
   "cell_type": "markdown",
   "metadata": {},
   "source": [
    "#### In the similar way, you can try for below given technologies and results  can be stored in an excel sheet.\n"
   ]
  },
  {
   "cell_type": "markdown",
   "metadata": {},
   "source": [
    "Collect the number of job postings for the following languages using the API:\n",
    "\n",
    "*   C\n",
    "*   C#\n",
    "*   C++\n",
    "*   Java\n",
    "*   JavaScript\n",
    "*   Python\n",
    "*   Scala\n",
    "*   Oracle\n",
    "*   SQL Server\n",
    "*   MySQL Server\n",
    "*   PostgreSQL\n",
    "*   MongoDB\n"
   ]
  },
  {
   "cell_type": "code",
   "execution_count": 36,
   "metadata": {
    "tags": []
   },
   "outputs": [
    {
     "name": "stdout",
     "output_type": "stream",
     "text": [
      "Fetching job data from the API...\n",
      "Processing job data for each technology...\n",
      "- Found 25114 jobs for C\n",
      "- Found 526 jobs for C#\n",
      "- Found 506 jobs for C++\n",
      "- Found 3428 jobs for Java\n",
      "- Found 2248 jobs for JavaScript\n",
      "- Found 1173 jobs for Python\n",
      "- Found 138 jobs for Scala\n",
      "- Found 899 jobs for Oracle\n",
      "- Found 423 jobs for SQL Server\n",
      "- Found 0 jobs for MySQL Server\n",
      "- Found 86 jobs for PostgreSQL\n",
      "- Found 208 jobs for MongoDB\n",
      "\n",
      "Successfully saved the job posting data to 'job-postings.xlsx'.\n"
     ]
    }
   ],
   "source": [
    "import requests\n",
    "import openpyxl\n",
    "\n",
    "def get_job_postings_data(api_url):\n",
    "    \"\"\"Fetches job posting data from the given API URL.\"\"\"\n",
    "    try:\n",
    "        response = requests.get(api_url)\n",
    "        response.raise_for_status()  # Raise an exception for bad status codes\n",
    "        return response.json()\n",
    "    except requests.exceptions.RequestException as e:\n",
    "        print(f\"Error fetching data: {e}\")\n",
    "        return None\n",
    "\n",
    "def count_jobs_for_technology(technology, job_data):\n",
    "    \"\"\"Counts the number of jobs for a specific technology from the job data.\"\"\"\n",
    "    number_of_jobs = 0\n",
    "    if job_data:\n",
    "        for job in job_data:\n",
    "            # Safely get the 'Key Skills' field, default to empty string if not found\n",
    "            key_skills = job.get(\"Key Skills\", \"\")\n",
    "            # Case-insensitive search for the technology in the key skills\n",
    "            if technology.lower() in key_skills.lower():\n",
    "                number_of_jobs += 1\n",
    "    return number_of_jobs\n",
    "\n",
    "def main():\n",
    "    \"\"\"Main function to orchestrate the job data collection and export to Excel.\"\"\"\n",
    "    # The API URL for the job postings data\n",
    "    api_url = \"https://cf-courses-data.s3.us.cloud-object-storage.appdomain.cloud/IBM-DA0321EN-SkillsNetwork/labs/module%201/Accessing%20Data%20Using%20APIs/jobs.json\"\n",
    "    \n",
    "    # A list of all technologies to search for\n",
    "    technologies = [\n",
    "        \"C\", \"C#\", \"C++\", \"Java\", \"JavaScript\", \"Python\", \"Scala\", \"Oracle\", \n",
    "        \"SQL Server\", \"MySQL Server\", \"PostgreSQL\", \"MongoDB\"\n",
    "    ]\n",
    "    \n",
    "    # --- Create Excel Workbook and Worksheet ---\n",
    "    workbook = openpyxl.Workbook()\n",
    "    worksheet = workbook.active\n",
    "    worksheet.title = \"Technology Jobs\"\n",
    "    \n",
    "    # Add column headers to the worksheet\n",
    "    worksheet.append([\"Technology\", \"Number of Jobs\"])\n",
    "    \n",
    "    # --- Fetch Data and Populate Worksheet ---\n",
    "    print(\"Fetching job data from the API...\")\n",
    "    job_data = get_job_postings_data(api_url)\n",
    "    \n",
    "    if job_data:\n",
    "        print(\"Processing job data for each technology...\")\n",
    "        # Iterate over the list of technologies\n",
    "        for tech in technologies:\n",
    "            # Count the jobs for the current technology\n",
    "            job_count = count_jobs_for_technology(tech, job_data)\n",
    "            print(f\"- Found {job_count} jobs for {tech}\")\n",
    "            \n",
    "            # Append the technology and its job count to the worksheet\n",
    "            worksheet.append([tech, job_count])\n",
    "    \n",
    "    # --- Save the Workbook ---\n",
    "    output_filename = \"job-postings.xlsx\"\n",
    "    workbook.save(output_filename)\n",
    "    \n",
    "    print(f\"\\nSuccessfully saved the job posting data to '{output_filename}'.\")\n",
    "\n",
    "# Run the main function when the script is executed\n",
    "if __name__ == \"__main__\":\n",
    "    main()\n",
    "\n",
    "\n"
   ]
  },
  {
   "cell_type": "markdown",
   "metadata": {},
   "source": [
    "## Authors\n"
   ]
  },
  {
   "cell_type": "markdown",
   "metadata": {},
   "source": [
    "Ayushi Jain\n"
   ]
  },
  {
   "cell_type": "markdown",
   "metadata": {},
   "source": [
    "### Other Contributors\n"
   ]
  },
  {
   "cell_type": "markdown",
   "metadata": {},
   "source": [
    "Rav Ahuja\n",
    "\n",
    "Lakshmi Holla\n",
    "\n",
    "Malika\n"
   ]
  },
  {
   "cell_type": "markdown",
   "metadata": {},
   "source": [
    "Copyright © IBM Corporation.\n"
   ]
  },
  {
   "cell_type": "markdown",
   "metadata": {},
   "source": [
    "<!--## Change Log\n"
   ]
  },
  {
   "cell_type": "markdown",
   "metadata": {},
   "source": [
    "<!--| Date (YYYY-MM-DD) | Version | Changed By        | Change Description                 |\n",
    "| ----------------- | ------- | ----------------- | ---------------------------------- | \n",
    "| 2022-01-19        | 0.3     | Lakshmi Holla        | Added changes in the markdown      |\n",
    "| 2021-06-25        | 0.2     | Malika            | Updated GitHub job json link       |\n",
    "| 2020-10-17        | 0.1     | Ramesh Sannareddy | Created initial version of the lab |--!>\n"
   ]
  }
 ],
 "metadata": {
  "kernelspec": {
   "display_name": "Python",
   "language": "python",
   "name": "conda-env-python-py"
  },
  "language_info": {
   "codemirror_mode": {
    "name": "ipython",
    "version": 3
   },
   "file_extension": ".py",
   "mimetype": "text/x-python",
   "name": "python",
   "nbconvert_exporter": "python",
   "pygments_lexer": "ipython3",
   "version": "3.7.12"
  },
  "prev_pub_hash": "61a35a07ad98492b710274ae0e52a0fdce2221e88e366133dd4a20370680fa8f"
 },
 "nbformat": 4,
 "nbformat_minor": 4
}
